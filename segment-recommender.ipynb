{
 "cells": [
  {
   "cell_type": "code",
   "execution_count": 1,
   "metadata": {
    "collapsed": false
   },
   "outputs": [
    {
     "name": "stdout",
     "output_type": "stream",
     "text": [
      "Populating the interactive namespace from numpy and matplotlib\n"
     ]
    }
   ],
   "source": [
    "%pylab inline\n",
    "%config InlineBackend.figure_format = 'svg'\n",
    "%load_ext cython\n",
    "%load_ext memory_profiler"
   ]
  },
  {
   "cell_type": "markdown",
   "metadata": {},
   "source": [
    "# Strava segment recommender"
   ]
  },
  {
   "cell_type": "code",
   "execution_count": 2,
   "metadata": {
    "collapsed": false
   },
   "outputs": [],
   "source": [
    "import pandas as pd\n",
    "import stravalib\n",
    "from mpl_toolkits.basemap import Basemap"
   ]
  },
  {
   "cell_type": "markdown",
   "metadata": {},
   "source": [
    "## Get data from Strava Public API"
   ]
  },
  {
   "cell_type": "code",
   "execution_count": 3,
   "metadata": {
    "collapsed": true
   },
   "outputs": [],
   "source": [
    "client = stravalib.Client(access_token='ea571a903a95d27a567aadfaeb85d8e76aeafee3')"
   ]
  },
  {
   "cell_type": "markdown",
   "metadata": {},
   "source": [
    "### Get IDs of popular Bay Area segments"
   ]
  },
  {
   "cell_type": "markdown",
   "metadata": {},
   "source": [
    "`Client.explore_segments` is limited to returning only 10 (of the most popular) segments per request. To get the most popular segments over a large area of the map, we can place a grid on the desired map area and make a request for each square of the grid."
   ]
  },
  {
   "cell_type": "code",
   "execution_count": 4,
   "metadata": {
    "collapsed": true
   },
   "outputs": [],
   "source": [
    "# lat/lon bounds for the whole region of interest (South SF Bay Area)\n",
    "bounds = dict(llcrnrlat=36.8, llcrnrlon=-122.6, \n",
    "              urcrnrlat=38.0, urcrnrlon=-121.6)"
   ]
  },
  {
   "cell_type": "markdown",
   "metadata": {},
   "source": [
    "Now, define the grid..."
   ]
  },
  {
   "cell_type": "code",
   "execution_count": 5,
   "metadata": {
    "collapsed": false
   },
   "outputs": [],
   "source": [
    "gridlines = 15 # number of grid lines to use\n",
    "gridlat = linspace(bounds['llcrnrlat'], bounds['urcrnrlat'], gridlines)\n",
    "gridlon = linspace(bounds['llcrnrlon'], bounds['urcrnrlon'], gridlines)"
   ]
  },
  {
   "cell_type": "markdown",
   "metadata": {},
   "source": [
    "# TODO: heatmap"
   ]
  },
  {
   "cell_type": "code",
   "execution_count": 6,
   "metadata": {
    "collapsed": false
   },
   "outputs": [
    {
     "data": {
      "image/svg+xml": [
       "<?xml version=\"1.0\" encoding=\"utf-8\" standalone=\"no\"?>\n",
       "<!DOCTYPE svg PUBLIC \"-//W3C//DTD SVG 1.1//EN\"\n",
       "  \"http://www.w3.org/Graphics/SVG/1.1/DTD/svg11.dtd\">\n",
       "<!-- Created with matplotlib (http://matplotlib.org/) -->\n",
       "<svg height=\"237pt\" version=\"1.1\" viewBox=\"0 0 200 237\" width=\"200pt\" xmlns=\"http://www.w3.org/2000/svg\" xmlns:xlink=\"http://www.w3.org/1999/xlink\">\n",
       " <defs>\n",
       "  <style type=\"text/css\">\n",
       "*{stroke-linecap:butt;stroke-linejoin:round;}\n",
       "  </style>\n",
       " </defs>\n",
       " <g id=\"figure_1\">\n",
       "  <g id=\"patch_1\">\n",
       "   <path d=\"\n",
       "M1.42109e-14 237.6\n",
       "L200.4 237.6\n",
       "L200.4 0\n",
       "L1.42109e-14 0\n",
       "L1.42109e-14 237.6\" style=\"fill:none;\"/>\n",
       "  </g>\n",
       "  <g id=\"axes_1\">\n",
       "   <g id=\"patch_2\">\n",
       "    <path d=\"\n",
       "M7.2 230.4\n",
       "L193.2 230.4\n",
       "L193.2 7.2\n",
       "L7.2 7.2\n",
       "z\n",
       "\" style=\"fill:#ffffff;\"/>\n",
       "   </g>\n",
       "   <g id=\"patch_3\">\n",
       "    <path clip-path=\"url(#pdd855eeb13)\" d=\"\n",
       "M157.526 230.4\n",
       "L157.809 229.014\n",
       "L144.179 205.93\n",
       "L131.769 197.381\n",
       "L123.904 201.72\n",
       "L116.294 199.855\n",
       "L109.278 202.98\n",
       "L93.5037 199.431\n",
       "L76.7899 188.633\n",
       "L64.0751 173.288\n",
       "L56.7953 172.668\n",
       "L50.357 161.275\n",
       "L43.0771 156.625\n",
       "L40.2929 146.7\n",
       "L44.3231 126.705\n",
       "L33.9327 102.681\n",
       "L29.8202 99.8225\n",
       "L25.3303 101.208\n",
       "L21.8479 93.8454\n",
       "L21.6875 82.6901\n",
       "L25.712 81.3009\n",
       "L26.7976 72.4601\n",
       "L22.9221 47.8194\n",
       "L27.9598 46.3379\n",
       "L29.8202 42.6228\n",
       "L41.4452 42.1516\n",
       "L46.7979 45.9491\n",
       "L47.252 54.0094\n",
       "L52.5324 57.7358\n",
       "L45.8628 61.6042\n",
       "L48.0481 68.2795\n",
       "L45.5577 69.3552\n",
       "L49.2771 70.1413\n",
       "L45.8727 73.7003\n",
       "L46.5652 76.0986\n",
       "L51.1374 76.4845\n",
       "L52.2174 80.0549\n",
       "L48.5079 80.3643\n",
       "L51.3702 82.9229\n",
       "L71.0555 86.9473\n",
       "L72.6051 90.5134\n",
       "L76.3968 90.5901\n",
       "L74.6202 94.5379\n",
       "L77.7152 91.748\n",
       "L76.4848 93.7716\n",
       "L82.2874 93.3743\n",
       "L78.6503 99.5018\n",
       "L81.5949 95.6278\n",
       "L87.8005 100.587\n",
       "L93.3746 98.7228\n",
       "L96.3872 105.785\n",
       "L101.59 109.274\n",
       "L112.89 109.572\n",
       "L112.13 107.718\n",
       "L117.137 106.864\n",
       "L109.34 106.787\n",
       "L109.955 101.523\n",
       "L98.5627 100.36\n",
       "L90.9778 84.2397\n",
       "L88.3426 68.5803\n",
       "L83.3772 62.2357\n",
       "L81.4345 60.7528\n",
       "L78.9597 63.0772\n",
       "L73.5403 59.6672\n",
       "L70.0479 54.9403\n",
       "L74.1448 53.6234\n",
       "L65.0046 50.9924\n",
       "L63.1555 48.0422\n",
       "L57.028 47.8151\n",
       "L58.8927 43.6303\n",
       "L55.0172 43.3209\n",
       "L60.753 40.6843\n",
       "L57.1827 39.9052\n",
       "L63.3826 38.516\n",
       "L60.4366 37.5851\n",
       "L63.0675 36.8103\n",
       "L58.8827 31.0701\n",
       "L61.3732 31.0744\n",
       "L58.2725 27.6601\n",
       "L60.2777 26.7349\n",
       "L49.8248 21.3878\n",
       "L51.1999 24.7979\n",
       "L45.1703 24.7979\n",
       "L46.7923 22.086\n",
       "L40.1269 17.1193\n",
       "L38.9704 13.4723\n",
       "L44.7048 15.9627\n",
       "L44.2351 12.8621\n",
       "L50.5074 11.2358\n",
       "L50.5599 7.2\n",
       "L193.2 7.2\n",
       "L193.2 230.4\n",
       "z\n",
       "\" style=\"fill:#ff7f50;\"/>\n",
       "   </g>\n",
       "   <g id=\"patch_4\">\n",
       "    <path clip-path=\"url(#pdd855eeb13)\" d=\"\n",
       "M31.6011 7.2\n",
       "L35.4724 9.36975\n",
       "L25.4027 12.7854\n",
       "L29.6755 17.9778\n",
       "L23.3975 18.0559\n",
       "L37.1866 29.2097\n",
       "L32.6825 30.9155\n",
       "L33.5453 32.8567\n",
       "L27.8051 26.9619\n",
       "L25.0976 26.7292\n",
       "L26.2598 29.9178\n",
       "L21.4548 27.277\n",
       "L29.7422 33.3903\n",
       "L30.9824 38.2095\n",
       "L20.5197 41.5272\n",
       "L13.5449 34.4035\n",
       "L7.20028 30.9566\n",
       "L7.20028 7.2\n",
       "z\n",
       "\" style=\"fill:#ff7f50;\"/>\n",
       "   </g>\n",
       "   <g id=\"LineCollection_1\">\n",
       "    <path clip-path=\"url(#pdd855eeb13)\" d=\"\n",
       "M157.526 230.4\n",
       "L157.809 229.014\n",
       "L144.179 205.93\n",
       "L131.769 197.381\n",
       "L123.904 201.72\n",
       "L116.294 199.855\n",
       "L109.278 202.98\n",
       "L93.5037 199.431\n",
       "L76.7899 188.633\n",
       "L64.0751 173.288\n",
       "L56.7953 172.668\n",
       "L50.357 161.275\n",
       "L43.0771 156.625\n",
       "L40.2929 146.7\n",
       "L44.3231 126.705\n",
       "L33.9327 102.681\n",
       "L29.8202 99.8225\n",
       "L25.3303 101.208\n",
       "L21.8479 93.8454\n",
       "L21.6875 82.6901\n",
       "L25.712 81.3009\n",
       "L26.7976 72.4601\n",
       "L22.9221 47.8194\n",
       "L27.9598 46.3379\n",
       "L29.8202 42.6228\n",
       "L41.4452 42.1516\n",
       "L46.7979 45.9491\n",
       "L47.252 54.0094\n",
       "L52.5324 57.7358\n",
       "L45.8628 61.6042\n",
       "L48.0481 68.2795\n",
       "L45.5577 69.3552\n",
       "L49.2771 70.1413\n",
       "L45.8727 73.7003\n",
       "L46.5652 76.0986\n",
       "L51.1374 76.4845\n",
       "L52.2174 80.0549\n",
       "L48.5079 80.3643\n",
       "L51.3702 82.9229\n",
       "L71.0555 86.9473\n",
       "L72.6051 90.5134\n",
       "L76.3968 90.5901\n",
       "L74.6202 94.5379\n",
       "L77.7152 91.748\n",
       "L76.4848 93.7716\n",
       "L82.2874 93.3743\n",
       "L78.6503 99.5018\n",
       "L81.5949 95.6278\n",
       "L87.8005 100.587\n",
       "L93.3746 98.7228\n",
       "L96.3872 105.785\n",
       "L101.59 109.274\n",
       "L112.89 109.572\n",
       "L112.13 107.718\n",
       "L117.137 106.864\n",
       "L109.34 106.787\n",
       "L109.955 101.523\n",
       "L98.5627 100.36\n",
       "L90.9778 84.2397\n",
       "L88.3426 68.5803\n",
       "L83.3772 62.2357\n",
       "L81.4345 60.7528\n",
       "L78.9597 63.0772\n",
       "L73.5403 59.6672\n",
       "L70.0479 54.9403\n",
       "L74.1448 53.6234\n",
       "L65.0046 50.9924\n",
       "L63.1555 48.0422\n",
       "L57.028 47.8151\n",
       "L58.8927 43.6303\n",
       "L55.0172 43.3209\n",
       "L60.753 40.6843\n",
       "L57.1827 39.9052\n",
       "L63.3826 38.516\n",
       "L60.4366 37.5851\n",
       "L63.0675 36.8103\n",
       "L58.8827 31.0701\n",
       "L61.3732 31.0744\n",
       "L58.2725 27.6601\n",
       "L60.2777 26.7349\n",
       "L49.8248 21.3878\n",
       "L51.1999 24.7979\n",
       "L45.1703 24.7979\n",
       "L46.7923 22.086\n",
       "L40.1269 17.1193\n",
       "L38.9704 13.4723\n",
       "L44.7048 15.9627\n",
       "L44.2351 12.8621\n",
       "L50.5074 11.2358\n",
       "L50.5596 7.2\" style=\"fill:none;stroke:#000000;\"/>\n",
       "    <path clip-path=\"url(#pdd855eeb13)\" d=\"\n",
       "M31.6013 7.2\n",
       "L35.4724 9.36975\n",
       "L25.4027 12.7854\n",
       "L29.6755 17.9778\n",
       "L23.3975 18.0559\n",
       "L37.1866 29.2097\n",
       "L32.6825 30.9155\n",
       "L33.5453 32.8567\n",
       "L27.8051 26.9619\n",
       "L25.0976 26.7292\n",
       "L26.2598 29.9178\n",
       "L21.4548 27.277\n",
       "L29.7422 33.3903\n",
       "L30.9824 38.2095\n",
       "L20.5197 41.5272\n",
       "L13.5449 34.4035\n",
       "L7.2 30.9565\" style=\"fill:none;stroke:#000000;\"/>\n",
       "   </g>\n",
       "   <g id=\"line2d_1\">\n",
       "    <path clip-path=\"url(#pdd855eeb13)\" d=\"\n",
       "M7.2 230.4\n",
       "L193.2 230.4\n",
       "L193.2 230.4\" style=\"fill:none;stroke:#000000;stroke-dasharray:1.000000,1.000000;stroke-dashoffset:0.0;\"/>\n",
       "   </g>\n",
       "   <g id=\"line2d_2\">\n",
       "    <path clip-path=\"url(#pdd855eeb13)\" d=\"\n",
       "M7.2 214.457\n",
       "L193.2 214.457\n",
       "L193.2 214.457\" style=\"fill:none;stroke:#000000;stroke-dasharray:1.000000,1.000000;stroke-dashoffset:0.0;\"/>\n",
       "   </g>\n",
       "   <g id=\"line2d_3\">\n",
       "    <path clip-path=\"url(#pdd855eeb13)\" d=\"\n",
       "M7.2 198.514\n",
       "L193.2 198.514\n",
       "L193.2 198.514\" style=\"fill:none;stroke:#000000;stroke-dasharray:1.000000,1.000000;stroke-dashoffset:0.0;\"/>\n",
       "   </g>\n",
       "   <g id=\"line2d_4\">\n",
       "    <path clip-path=\"url(#pdd855eeb13)\" d=\"\n",
       "M7.2 182.571\n",
       "L193.2 182.571\n",
       "L193.2 182.571\" style=\"fill:none;stroke:#000000;stroke-dasharray:1.000000,1.000000;stroke-dashoffset:0.0;\"/>\n",
       "   </g>\n",
       "   <g id=\"line2d_5\">\n",
       "    <path clip-path=\"url(#pdd855eeb13)\" d=\"\n",
       "M7.2 166.629\n",
       "L193.2 166.629\n",
       "L193.2 166.629\" style=\"fill:none;stroke:#000000;stroke-dasharray:1.000000,1.000000;stroke-dashoffset:0.0;\"/>\n",
       "   </g>\n",
       "   <g id=\"line2d_6\">\n",
       "    <path clip-path=\"url(#pdd855eeb13)\" d=\"\n",
       "M7.2 150.685\n",
       "L193.2 150.685\n",
       "L193.2 150.685\" style=\"fill:none;stroke:#000000;stroke-dasharray:1.000000,1.000000;stroke-dashoffset:0.0;\"/>\n",
       "   </g>\n",
       "   <g id=\"line2d_7\">\n",
       "    <path clip-path=\"url(#pdd855eeb13)\" d=\"\n",
       "M7.2 134.743\n",
       "L193.2 134.743\n",
       "L193.2 134.743\" style=\"fill:none;stroke:#000000;stroke-dasharray:1.000000,1.000000;stroke-dashoffset:0.0;\"/>\n",
       "   </g>\n",
       "   <g id=\"line2d_8\">\n",
       "    <path clip-path=\"url(#pdd855eeb13)\" d=\"\n",
       "M7.2 118.8\n",
       "L193.2 118.8\n",
       "L193.2 118.8\" style=\"fill:none;stroke:#000000;stroke-dasharray:1.000000,1.000000;stroke-dashoffset:0.0;\"/>\n",
       "   </g>\n",
       "   <g id=\"line2d_9\">\n",
       "    <path clip-path=\"url(#pdd855eeb13)\" d=\"\n",
       "M7.2 102.857\n",
       "L193.2 102.857\n",
       "L193.2 102.857\" style=\"fill:none;stroke:#000000;stroke-dasharray:1.000000,1.000000;stroke-dashoffset:0.0;\"/>\n",
       "   </g>\n",
       "   <g id=\"line2d_10\">\n",
       "    <path clip-path=\"url(#pdd855eeb13)\" d=\"\n",
       "M7.2 86.914\n",
       "L193.2 86.914\n",
       "L193.2 86.914\" style=\"fill:none;stroke:#000000;stroke-dasharray:1.000000,1.000000;stroke-dashoffset:0.0;\"/>\n",
       "   </g>\n",
       "   <g id=\"line2d_11\">\n",
       "    <path clip-path=\"url(#pdd855eeb13)\" d=\"\n",
       "M7.2 70.9715\n",
       "L193.2 70.9715\n",
       "L193.2 70.9715\" style=\"fill:none;stroke:#000000;stroke-dasharray:1.000000,1.000000;stroke-dashoffset:0.0;\"/>\n",
       "   </g>\n",
       "   <g id=\"line2d_12\">\n",
       "    <path clip-path=\"url(#pdd855eeb13)\" d=\"\n",
       "M7.2 55.0282\n",
       "L193.2 55.0282\n",
       "L193.2 55.0282\" style=\"fill:none;stroke:#000000;stroke-dasharray:1.000000,1.000000;stroke-dashoffset:0.0;\"/>\n",
       "   </g>\n",
       "   <g id=\"line2d_13\">\n",
       "    <path clip-path=\"url(#pdd855eeb13)\" d=\"\n",
       "M7.2 39.0857\n",
       "L193.2 39.0857\n",
       "L193.2 39.0857\" style=\"fill:none;stroke:#000000;stroke-dasharray:1.000000,1.000000;stroke-dashoffset:0.0;\"/>\n",
       "   </g>\n",
       "   <g id=\"line2d_14\">\n",
       "    <path clip-path=\"url(#pdd855eeb13)\" d=\"\n",
       "M7.2 23.1425\n",
       "L193.2 23.1425\n",
       "L193.2 23.1425\" style=\"fill:none;stroke:#000000;stroke-dasharray:1.000000,1.000000;stroke-dashoffset:0.0;\"/>\n",
       "   </g>\n",
       "   <g id=\"line2d_15\">\n",
       "    <path clip-path=\"url(#pdd855eeb13)\" d=\"\n",
       "M7.2 7.2\n",
       "L193.2 7.2\n",
       "L193.2 7.2\" style=\"fill:none;stroke:#000000;stroke-dasharray:1.000000,1.000000;stroke-dashoffset:0.0;\"/>\n",
       "   </g>\n",
       "   <g id=\"line2d_16\">\n",
       "    <path clip-path=\"url(#pdd855eeb13)\" d=\"\n",
       "M7.20028 230.4\n",
       "L7.20028 7.2\n",
       "L7.20028 7.2\" style=\"fill:none;stroke:#000000;stroke-dasharray:1.000000,1.000000;stroke-dashoffset:0.0;\"/>\n",
       "   </g>\n",
       "   <g id=\"line2d_17\">\n",
       "    <path clip-path=\"url(#pdd855eeb13)\" d=\"\n",
       "M20.4856 230.4\n",
       "L20.4856 7.2\n",
       "L20.4856 7.2\" style=\"fill:none;stroke:#000000;stroke-dasharray:1.000000,1.000000;stroke-dashoffset:0.0;\"/>\n",
       "   </g>\n",
       "   <g id=\"line2d_18\">\n",
       "    <path clip-path=\"url(#pdd855eeb13)\" d=\"\n",
       "M33.7709 230.4\n",
       "L33.7709 7.2\n",
       "L33.7709 7.2\" style=\"fill:none;stroke:#000000;stroke-dasharray:1.000000,1.000000;stroke-dashoffset:0.0;\"/>\n",
       "   </g>\n",
       "   <g id=\"line2d_19\">\n",
       "    <path clip-path=\"url(#pdd855eeb13)\" d=\"\n",
       "M47.0576 230.4\n",
       "L47.0576 7.2\n",
       "L47.0576 7.2\" style=\"fill:none;stroke:#000000;stroke-dasharray:1.000000,1.000000;stroke-dashoffset:0.0;\"/>\n",
       "   </g>\n",
       "   <g id=\"line2d_20\">\n",
       "    <path clip-path=\"url(#pdd855eeb13)\" d=\"\n",
       "M60.3429 230.4\n",
       "L60.3429 7.2\n",
       "L60.3429 7.2\" style=\"fill:none;stroke:#000000;stroke-dasharray:1.000000,1.000000;stroke-dashoffset:0.0;\"/>\n",
       "   </g>\n",
       "   <g id=\"line2d_21\">\n",
       "    <path clip-path=\"url(#pdd855eeb13)\" d=\"\n",
       "M73.6282 230.4\n",
       "L73.6282 7.2\n",
       "L73.6282 7.2\" style=\"fill:none;stroke:#000000;stroke-dasharray:1.000000,1.000000;stroke-dashoffset:0.0;\"/>\n",
       "   </g>\n",
       "   <g id=\"line2d_22\">\n",
       "    <path clip-path=\"url(#pdd855eeb13)\" d=\"\n",
       "M86.915 230.4\n",
       "L86.915 7.2\n",
       "L86.915 7.2\" style=\"fill:none;stroke:#000000;stroke-dasharray:1.000000,1.000000;stroke-dashoffset:0.0;\"/>\n",
       "   </g>\n",
       "   <g id=\"line2d_23\">\n",
       "    <path clip-path=\"url(#pdd855eeb13)\" d=\"\n",
       "M100.2 230.4\n",
       "L100.2 7.2\n",
       "L100.2 7.2\" style=\"fill:none;stroke:#000000;stroke-dasharray:1.000000,1.000000;stroke-dashoffset:0.0;\"/>\n",
       "   </g>\n",
       "   <g id=\"line2d_24\">\n",
       "    <path clip-path=\"url(#pdd855eeb13)\" d=\"\n",
       "M113.486 230.4\n",
       "L113.486 7.2\n",
       "L113.486 7.2\" style=\"fill:none;stroke:#000000;stroke-dasharray:1.000000,1.000000;stroke-dashoffset:0.0;\"/>\n",
       "   </g>\n",
       "   <g id=\"line2d_25\">\n",
       "    <path clip-path=\"url(#pdd855eeb13)\" d=\"\n",
       "M126.771 230.4\n",
       "L126.771 7.2\n",
       "L126.771 7.2\" style=\"fill:none;stroke:#000000;stroke-dasharray:1.000000,1.000000;stroke-dashoffset:0.0;\"/>\n",
       "   </g>\n",
       "   <g id=\"line2d_26\">\n",
       "    <path clip-path=\"url(#pdd855eeb13)\" d=\"\n",
       "M140.058 230.4\n",
       "L140.058 7.2\n",
       "L140.058 7.2\" style=\"fill:none;stroke:#000000;stroke-dasharray:1.000000,1.000000;stroke-dashoffset:0.0;\"/>\n",
       "   </g>\n",
       "   <g id=\"line2d_27\">\n",
       "    <path clip-path=\"url(#pdd855eeb13)\" d=\"\n",
       "M153.343 230.4\n",
       "L153.343 7.2\n",
       "L153.343 7.2\" style=\"fill:none;stroke:#000000;stroke-dasharray:1.000000,1.000000;stroke-dashoffset:0.0;\"/>\n",
       "   </g>\n",
       "   <g id=\"line2d_28\">\n",
       "    <path clip-path=\"url(#pdd855eeb13)\" d=\"\n",
       "M166.628 230.4\n",
       "L166.628 7.2\n",
       "L166.628 7.2\" style=\"fill:none;stroke:#000000;stroke-dasharray:1.000000,1.000000;stroke-dashoffset:0.0;\"/>\n",
       "   </g>\n",
       "   <g id=\"line2d_29\">\n",
       "    <path clip-path=\"url(#pdd855eeb13)\" d=\"\n",
       "M179.915 230.4\n",
       "L179.915 7.2\n",
       "L179.915 7.2\" style=\"fill:none;stroke:#000000;stroke-dasharray:1.000000,1.000000;stroke-dashoffset:0.0;\"/>\n",
       "   </g>\n",
       "   <g id=\"line2d_30\">\n",
       "    <path clip-path=\"url(#pdd855eeb13)\" d=\"\n",
       "M193.2 230.4\" style=\"fill:none;stroke:#000000;stroke-dasharray:1.000000,1.000000;stroke-dashoffset:0.0;\"/>\n",
       "   </g>\n",
       "   <g id=\"patch_5\">\n",
       "    <path d=\"\n",
       "M7.2 230.4\n",
       "L193.2 230.4\" style=\"fill:none;stroke:#000000;stroke-linecap:square;stroke-linejoin:miter;\"/>\n",
       "   </g>\n",
       "   <g id=\"patch_6\">\n",
       "    <path d=\"\n",
       "M7.2 230.4\n",
       "L7.2 7.2\" style=\"fill:none;stroke:#000000;stroke-linecap:square;stroke-linejoin:miter;\"/>\n",
       "   </g>\n",
       "   <g id=\"patch_7\">\n",
       "    <path d=\"\n",
       "M193.2 230.4\n",
       "L193.2 7.2\" style=\"fill:none;stroke:#000000;stroke-linecap:square;stroke-linejoin:miter;\"/>\n",
       "   </g>\n",
       "   <g id=\"patch_8\">\n",
       "    <path d=\"\n",
       "M7.2 7.2\n",
       "L193.2 7.2\" style=\"fill:none;stroke:#000000;stroke-linecap:square;stroke-linejoin:miter;\"/>\n",
       "   </g>\n",
       "   <g id=\"matplotlib.axis_1\"/>\n",
       "   <g id=\"matplotlib.axis_2\"/>\n",
       "  </g>\n",
       " </g>\n",
       " <defs>\n",
       "  <clipPath id=\"pdd855eeb13\">\n",
       "   <rect height=\"223.2\" width=\"186.0\" x=\"7.2\" y=\"7.2\"/>\n",
       "  </clipPath>\n",
       " </defs>\n",
       "</svg>\n"
      ],
      "text/plain": [
       "<matplotlib.figure.Figure at 0x7f25f273c9b0>"
      ]
     },
     "metadata": {},
     "output_type": "display_data"
    }
   ],
   "source": [
    "mp = Basemap(resolution='i', **bounds)\n",
    "mp.fillcontinents(color='coral', lake_color='aqua')\n",
    "mp.drawcoastlines()\n",
    "mp.drawparallels(gridlat)\n",
    "mp.drawmeridians(gridlon);"
   ]
  },
  {
   "cell_type": "code",
   "execution_count": 7,
   "metadata": {
    "collapsed": true
   },
   "outputs": [],
   "source": [
    "gridsquares = [(south, west, north, east)\n",
    "               for (south, north) in zip(gridlat[:-1], gridlat[1:])\n",
    "               for (west, east) in zip(gridlon[:-1], gridlon[1:])]"
   ]
  },
  {
   "cell_type": "code",
   "execution_count": null,
   "metadata": {
    "collapsed": false
   },
   "outputs": [],
   "source": [
    "segment_ids = [segment.id \n",
    "               for gridsquare in gridsquares\n",
    "               for segment in client.explore_segments(gridsquare)]"
   ]
  },
  {
   "cell_type": "code",
   "execution_count": 11,
   "metadata": {
    "collapsed": false
   },
   "outputs": [
    {
     "data": {
      "text/plain": [
       "array([4236635,  658876, 5086842, ..., 9087160, 8931176, 2453178])"
      ]
     },
     "execution_count": 11,
     "metadata": {},
     "output_type": "execute_result"
    }
   ],
   "source": [
    "segment_ids"
   ]
  },
  {
   "cell_type": "code",
   "execution_count": 10,
   "metadata": {
    "collapsed": false
   },
   "outputs": [],
   "source": [
    "#savetxt('segment_ids.txt', segment_ids, fmt='%d')\n",
    "segment_ids = loadtxt('segment_ids.txt', dtype=int)"
   ]
  },
  {
   "cell_type": "markdown",
   "metadata": {},
   "source": [
    "### Get segment leaderboards"
   ]
  },
  {
   "cell_type": "code",
   "execution_count": null,
   "metadata": {
    "collapsed": false
   },
   "outputs": [],
   "source": [
    "leaderboards = [client.get_segment_leaderboard(segment_id, top_results_limit=100) \n",
    "                for segment_id in segment_ids]"
   ]
  },
  {
   "cell_type": "code",
   "execution_count": 158,
   "metadata": {
    "collapsed": false
   },
   "outputs": [
    {
     "data": {
      "text/plain": [
       "1494"
      ]
     },
     "execution_count": 158,
     "metadata": {},
     "output_type": "execute_result"
    }
   ],
   "source": [
    "len(leaderboards)"
   ]
  },
  {
   "cell_type": "code",
   "execution_count": 91,
   "metadata": {
    "collapsed": true
   },
   "outputs": [],
   "source": [
    "columns = ['activity_id','athlete_id','average_hr',\n",
    "           'average_watts','effort_id','elapsed_time',\n",
    "           'moving_time','rank','start_date']"
   ]
  },
  {
   "cell_type": "code",
   "execution_count": 241,
   "metadata": {
    "collapsed": false
   },
   "outputs": [],
   "source": [
    "def leaderboard_to_df(leaderboard, fields):\n",
    "\n",
    "    records = [[entry.__getattribute__(x) for x in fields]\n",
    "               for entry in leaderboard]\n",
    "    \n",
    "    df = pd.DataFrame.from_records(records, columns=fields)\n",
    "    return df.convert_objects().set_index('athlete_id')"
   ]
  },
  {
   "cell_type": "code",
   "execution_count": 253,
   "metadata": {
    "collapsed": false
   },
   "outputs": [],
   "source": [
    "leaders = [leaderboard_to_df(lb, columns) for lb in leaderboards]\n",
    "leaders = pd.concat(leaders, keys=segment_ids, names=['segment_id'])"
   ]
  },
  {
   "cell_type": "code",
   "execution_count": 255,
   "metadata": {
    "collapsed": false
   },
   "outputs": [
    {
     "data": {
      "text/html": [
       "<div>\n",
       "<table border=\"1\" class=\"dataframe\">\n",
       "  <thead>\n",
       "    <tr style=\"text-align: right;\">\n",
       "      <th></th>\n",
       "      <th></th>\n",
       "      <th>activity_id</th>\n",
       "      <th>average_hr</th>\n",
       "      <th>average_watts</th>\n",
       "      <th>effort_id</th>\n",
       "      <th>elapsed_time</th>\n",
       "      <th>moving_time</th>\n",
       "      <th>rank</th>\n",
       "      <th>start_date</th>\n",
       "    </tr>\n",
       "    <tr>\n",
       "      <th>segment_id</th>\n",
       "      <th>athlete_id</th>\n",
       "      <th></th>\n",
       "      <th></th>\n",
       "      <th></th>\n",
       "      <th></th>\n",
       "      <th></th>\n",
       "      <th></th>\n",
       "      <th></th>\n",
       "      <th></th>\n",
       "    </tr>\n",
       "  </thead>\n",
       "  <tbody>\n",
       "    <tr>\n",
       "      <th rowspan=\"5\" valign=\"top\">4236635</th>\n",
       "      <th>486181</th>\n",
       "      <td>8285355</td>\n",
       "      <td>NaN</td>\n",
       "      <td>NaN</td>\n",
       "      <td>1042926966</td>\n",
       "      <td>00:10:40</td>\n",
       "      <td>00:10:40</td>\n",
       "      <td>1</td>\n",
       "      <td>2012-04-26 21:56:32</td>\n",
       "    </tr>\n",
       "    <tr>\n",
       "      <th>28074</th>\n",
       "      <td>50693803</td>\n",
       "      <td>NaN</td>\n",
       "      <td>324.4</td>\n",
       "      <td>1042851213</td>\n",
       "      <td>00:10:41</td>\n",
       "      <td>00:10:41</td>\n",
       "      <td>2</td>\n",
       "      <td>2013-04-25 17:58:12</td>\n",
       "    </tr>\n",
       "    <tr>\n",
       "      <th>161275</th>\n",
       "      <td>51255641</td>\n",
       "      <td>166.0</td>\n",
       "      <td>310.3</td>\n",
       "      <td>1042851956</td>\n",
       "      <td>00:10:41</td>\n",
       "      <td>00:10:41</td>\n",
       "      <td>2</td>\n",
       "      <td>2013-04-25 17:58:14</td>\n",
       "    </tr>\n",
       "    <tr>\n",
       "      <th>65625</th>\n",
       "      <td>50698083</td>\n",
       "      <td>175.9</td>\n",
       "      <td>316.7</td>\n",
       "      <td>1042851236</td>\n",
       "      <td>00:10:42</td>\n",
       "      <td>00:10:42</td>\n",
       "      <td>4</td>\n",
       "      <td>2013-04-25 17:58:12</td>\n",
       "    </tr>\n",
       "    <tr>\n",
       "      <th>5402</th>\n",
       "      <td>50743918</td>\n",
       "      <td>169.3</td>\n",
       "      <td>299.0</td>\n",
       "      <td>1042851269</td>\n",
       "      <td>00:10:43</td>\n",
       "      <td>00:10:43</td>\n",
       "      <td>5</td>\n",
       "      <td>2013-04-25 17:58:12</td>\n",
       "    </tr>\n",
       "  </tbody>\n",
       "</table>\n",
       "</div>"
      ],
      "text/plain": [
       "                       activity_id  average_hr  average_watts   effort_id  \\\n",
       "segment_id athlete_id                                                       \n",
       "4236635    486181          8285355         NaN            NaN  1042926966   \n",
       "           28074          50693803         NaN          324.4  1042851213   \n",
       "           161275         51255641       166.0          310.3  1042851956   \n",
       "           65625          50698083       175.9          316.7  1042851236   \n",
       "           5402           50743918       169.3          299.0  1042851269   \n",
       "\n",
       "                       elapsed_time  moving_time  rank          start_date  \n",
       "segment_id athlete_id                                                       \n",
       "4236635    486181          00:10:40     00:10:40     1 2012-04-26 21:56:32  \n",
       "           28074           00:10:41     00:10:41     2 2013-04-25 17:58:12  \n",
       "           161275          00:10:41     00:10:41     2 2013-04-25 17:58:14  \n",
       "           65625           00:10:42     00:10:42     4 2013-04-25 17:58:12  \n",
       "           5402            00:10:43     00:10:43     5 2013-04-25 17:58:12  "
      ]
     },
     "execution_count": 255,
     "metadata": {},
     "output_type": "execute_result"
    }
   ],
   "source": [
    "leaders.head()"
   ]
  },
  {
   "cell_type": "code",
   "execution_count": 3,
   "metadata": {
    "collapsed": false
   },
   "outputs": [],
   "source": [
    "#leaders.to_hdf('leaders.h5', 'leaders')\n",
    "leaders = pd.read_hdf('leaders.h5', 'leaders')"
   ]
  },
  {
   "cell_type": "code",
   "execution_count": 4,
   "metadata": {
    "collapsed": false
   },
   "outputs": [
    {
     "data": {
      "text/plain": [
       "segment_id  athlete_id\n",
       "98          241840        1\n",
       "            637337        2\n",
       "            31292         3\n",
       "            8777          4\n",
       "            1689588       5\n",
       "Name: rank, dtype: float64"
      ]
     },
     "execution_count": 4,
     "metadata": {},
     "output_type": "execute_result"
    }
   ],
   "source": [
    "leaders['rank'].head()"
   ]
  },
  {
   "cell_type": "code",
   "execution_count": 5,
   "metadata": {
    "collapsed": false
   },
   "outputs": [],
   "source": [
    "rating = (leaders['rank'].groupby(level='segment_id')\n",
    "                         .transform(lambda x: 1 + (x-1)/(max(x)-1)))"
   ]
  },
  {
   "cell_type": "code",
   "execution_count": null,
   "metadata": {
    "collapsed": false
   },
   "outputs": [],
   "source": [
    "Y = rating.unstack().values\n",
    "mu = nanmean(Y, axis=0) # mean normalization\n",
    "Y -= mu\n",
    "R = (~isnan(Y)).astype(np.int32)\n",
    "Y = where(isnan(Y), 0, Y)\n",
    "segment_id = df.index.get_level_values('segment_id').unique()\n",
    "athlete_id = df.index.get_level_values('athlete_id').unique()"
   ]
  },
  {
   "cell_type": "code",
   "execution_count": 274,
   "metadata": {
    "collapsed": false
   },
   "outputs": [
    {
     "data": {
      "text/plain": [
       "(1475, 20234)"
      ]
     },
     "execution_count": 274,
     "metadata": {},
     "output_type": "execute_result"
    }
   ],
   "source": [
    "Y.shape"
   ]
  },
  {
   "cell_type": "code",
   "execution_count": 275,
   "metadata": {
    "collapsed": false
   },
   "outputs": [
    {
     "data": {
      "text/plain": [
       "(1475, 20234)"
      ]
     },
     "execution_count": 275,
     "metadata": {},
     "output_type": "execute_result"
    }
   ],
   "source": [
    "R.shape"
   ]
  },
  {
   "cell_type": "markdown",
   "metadata": {},
   "source": [
    "# Collaborative filtering"
   ]
  },
  {
   "cell_type": "code",
   "execution_count": 276,
   "metadata": {
    "collapsed": true
   },
   "outputs": [],
   "source": [
    "from scipy.optimize import fmin_cg"
   ]
  },
  {
   "cell_type": "code",
   "execution_count": 277,
   "metadata": {
    "collapsed": false
   },
   "outputs": [],
   "source": [
    "num_features = 100             # analogout to action, comedy, romance, etc.\n",
    "num_athletes = len(athlete_id) # analogous to users\n",
    "num_segments = len(segment_id) # analogous to movies"
   ]
  },
  {
   "cell_type": "code",
   "execution_count": 311,
   "metadata": {
    "collapsed": true
   },
   "outputs": [],
   "source": [
    "def roll_params(X, Θ):\n",
    "    return concatenate((X.ravel(), Θ.ravel()))\n",
    "\n",
    "\n",
    "def unroll_params(params, num_users, num_items, num_features):\n",
    "    X = params[:num_items*num_features].reshape(num_items, num_features)\n",
    "    Θ = params[num_items*num_features:].reshape(num_users, num_features)\n",
    "    return X, Θ\n",
    "\n",
    "\n",
    "def cofi_cost(params, Y, R, λ, num_users, num_items, num_features=100):\n",
    "    \n",
    "    \"\"\"Regularized cost function and gradient for collaborative filtering\"\"\"\n",
    "    \n",
    "    X, Θ = unroll_params(params, num_users, num_items, num_features)\n",
    "    \n",
    "    D = R*(dot(X, Θ.T) - Y)\n",
    "    J = 0.5*(sum(D**2) + λ*(sum(Θ**2) + sum(X**2)))\n",
    "    \n",
    "    return J\n",
    "\n",
    "\n",
    "def cofi_cost_grad(params, Y, R, λ, num_users, num_items, num_features=100):\n",
    "    \n",
    "    \"\"\"Gradient of regularized cost function for collaborative filtering\"\"\"\n",
    "    \n",
    "    X, Θ = unroll_params(params, num_users, num_items, num_features)\n",
    "    \n",
    "    D = R*(dot(X, Θ.T) - Y)\n",
    "    X_grad = dot(D, Θ) + λ*X\n",
    "    Θ_grad = dot(D.T, X) + λ*Θ\n",
    "    \n",
    "    return roll_params(X_grad, Θ_grad)\n",
    "\n",
    "\n",
    "class PrintStatus:\n",
    "    \"\"\"Callback function to periodically print number of iterations and cost\"\"\"\n",
    "    \n",
    "    def __init__(self, cost_func, args, every=10):\n",
    "        self.i = 0\n",
    "        self.cost_func = cost_func\n",
    "        self.args = args\n",
    "        self.every = every\n",
    "        \n",
    "    def __call__(self, x):\n",
    "        self.i += 1\n",
    "        if self.i % self.every == 0:\n",
    "            J = self.cost_func(x, *self.args)\n",
    "            print('iteration {}, J = {}'.format(self.i, J))"
   ]
  },
  {
   "cell_type": "code",
   "execution_count": 306,
   "metadata": {
    "collapsed": true
   },
   "outputs": [],
   "source": [
    "params_initial = rand((num_athletes + num_segments)*num_features)"
   ]
  },
  {
   "cell_type": "code",
   "execution_count": 313,
   "metadata": {
    "collapsed": false
   },
   "outputs": [
    {
     "name": "stdout",
     "output_type": "stream",
     "text": [
      "iteration 10, J = 39144.72430903927\n",
      "iteration 20, J = 8782.82915653599\n",
      "iteration 30, J = 5703.157821815048\n",
      "iteration 40, J = 3983.8774132380254\n",
      "iteration 50, J = 3226.8366940110354\n",
      "iteration 60, J = 3139.505744672884\n",
      "iteration 70, J = 3070.705706007658\n",
      "iteration 80, J = 3044.5294206013564\n",
      "iteration 90, J = 3021.0910866019567\n",
      "iteration 100, J = 3011.034154203341\n",
      "Warning: Maximum number of iterations has been exceeded.\n",
      "         Current function value: 3011.034154\n",
      "         Iterations: 100\n",
      "         Function evaluations: 156\n",
      "         Gradient evaluations: 156\n",
      "CPU times: user 42.7 s, sys: 23.3 ms, total: 42.8 s\n",
      "Wall time: 42.9 s\n"
     ]
    }
   ],
   "source": [
    "%%time\n",
    "\n",
    "args=(segment, athlete, rating, num_ratings, 0.01, num_athletes, num_segments)\n",
    "\n",
    "params_opt = fmin_cg(cofi_cost_sparse, params_initial[:], cofi_cost_grad_sparse, args, \n",
    "                     maxiter=100, callback=PrintStatus(cofi_cost_sparse, args));"
   ]
  },
  {
   "cell_type": "code",
   "execution_count": 312,
   "metadata": {
    "collapsed": false
   },
   "outputs": [
    {
     "name": "stdout",
     "output_type": "stream",
     "text": [
      "iteration 10, J = 39144.72431640951\n",
      "iteration 20, J = 8782.829157826181\n",
      "iteration 30, J = 5703.157821331337\n",
      "iteration 40, J = 3983.8774167601077\n",
      "iteration 50, J = 3226.83669250034\n",
      "iteration 60, J = 3139.505376098863\n",
      "iteration 70, J = 3070.704491555916\n",
      "iteration 80, J = 3044.895333783207\n",
      "iteration 90, J = 3021.431442284279\n",
      "iteration 100, J = 2991.265942815785\n",
      "Warning: Maximum number of iterations has been exceeded.\n",
      "         Current function value: 2991.265943\n",
      "         Iterations: 100\n",
      "         Function evaluations: 155\n",
      "         Gradient evaluations: 155\n",
      "CPU times: user 6min 34s, sys: 2min 3s, total: 8min 38s\n",
      "Wall time: 2min 48s\n"
     ]
    }
   ],
   "source": [
    "%%time\n",
    "\n",
    "args=(Y, R, 0.01, num_athletes, num_segments)\n",
    "\n",
    "params_opt = fmin_cg(cofi_cost, params_initial, cofi_cost_grad, args, \n",
    "                     maxiter=100, callback=PrintStatus(cofi_cost, args));"
   ]
  },
  {
   "cell_type": "code",
   "execution_count": null,
   "metadata": {
    "collapsed": false
   },
   "outputs": [],
   "source": [
    "X_opt = params_opt[:num_items*num_features].reshape(num_items, num_features)\n",
    "Theta_opt = params_opt[num_items*num_features:].reshape(num_users, num_features)"
   ]
  },
  {
   "cell_type": "markdown",
   "metadata": {},
   "source": [
    "## Sparse implementation"
   ]
  },
  {
   "cell_type": "code",
   "execution_count": 93,
   "metadata": {
    "collapsed": true
   },
   "outputs": [],
   "source": [
    "import scipy.sparse as sparse"
   ]
  },
  {
   "cell_type": "code",
   "execution_count": 141,
   "metadata": {
    "collapsed": false
   },
   "outputs": [],
   "source": [
    "segment, athlete, rating = sparse.find(Y)\n",
    "num_ratings = len(rating)"
   ]
  },
  {
   "cell_type": "code",
   "execution_count": 284,
   "metadata": {
    "collapsed": false,
    "scrolled": true
   },
   "outputs": [],
   "source": [
    "%%cython\n",
    "#cython: boundscheck=False\n",
    "\n",
    "import numpy as np\n",
    "\n",
    "def cofi_cost_sparse(params, \n",
    "                     int [:] item, \n",
    "                     int [:] user,\n",
    "                     double [:] rating,\n",
    "                     int num_ratings,\n",
    "                     double lm,\n",
    "                     int num_users, \n",
    "                     int num_items, \n",
    "                     int num_features=100):\n",
    "\n",
    "    \"\"\"Regularized cost function for collaborative filtering\"\"\"\n",
    "    \n",
    "    cdef:\n",
    "        int i, j, k\n",
    "        double delta, J = 0.\n",
    "        double [:,:] X, Theta\n",
    "        \n",
    "    # unroll parameters\n",
    "    X = params[:num_items*num_features].reshape(num_items, num_features)\n",
    "    Theta = params[num_items*num_features:].reshape(num_users, num_features)\n",
    "    \n",
    "    for r in range(num_ratings):\n",
    "        \n",
    "        i = item[r]\n",
    "        j = user[r]\n",
    "        delta = -rating[r]\n",
    "\n",
    "        for k in range(num_features):\n",
    "            delta += Theta[j,k]*X[i,k]\n",
    "\n",
    "        J += 0.5*delta**2\n",
    "        \n",
    "    # regularization\n",
    "    \n",
    "    for i in range(num_items):\n",
    "        for k in range(num_features):\n",
    "            J += 0.5*lm*X[i,k]**2\n",
    "            \n",
    "    for j in range(num_users):\n",
    "        for k in range(num_features):\n",
    "            J += 0.5*lm*Theta[j,k]**2\n",
    "    \n",
    "    return J\n",
    "\n",
    "\n",
    "def cofi_cost_grad_sparse(params, \n",
    "                          int [:] item, \n",
    "                          int [:] user,\n",
    "                          double [:] rating,\n",
    "                          int num_ratings,\n",
    "                          double lm,\n",
    "                          int num_users, \n",
    "                          int num_items, \n",
    "                          int num_features=100):\n",
    "\n",
    "    \"\"\"Gradient of regularized cost function for collaborative filtering\"\"\"\n",
    "    \n",
    "    cdef:\n",
    "        int i, j, k\n",
    "        double delta\n",
    "        double [:,:] X, Theta, X_grad, Theta_grad\n",
    "        \n",
    "    # unroll parameters\n",
    "    X = params[:num_items*num_features].reshape(num_items, num_features)\n",
    "    Theta = params[num_items*num_features:].reshape(num_users, num_features)\n",
    "    \n",
    "    X_grad = np.zeros_like(X)\n",
    "    Theta_grad = np.zeros_like(Theta)\n",
    "    \n",
    "    for r in range(num_ratings):\n",
    "        \n",
    "        i = item[r]\n",
    "        j = user[r]\n",
    "        delta = -rating[r]\n",
    "\n",
    "        for k in range(num_features):\n",
    "            delta += Theta[j,k]*X[i,k]\n",
    "\n",
    "        for k in range(num_features):\n",
    "            X_grad[i,k] += delta*Theta[j,k]\n",
    "            Theta_grad[j,k] += delta*X[i,k]\n",
    "            \n",
    "    \n",
    "    # regularization\n",
    "    \n",
    "    for i in range(num_items):\n",
    "        for k in range(num_features):\n",
    "            X_grad[i,k] += lm*X[i,k]\n",
    "            \n",
    "    for j in range(num_users):\n",
    "        for k in range(num_features):\n",
    "            Theta_grad[j,k] += lm*Theta[j,k]\n",
    "    \n",
    "    grad = np.concatenate((np.asarray(X_grad).ravel(), \n",
    "                           np.asarray(Theta_grad).ravel()))\n",
    "    \n",
    "    return grad"
   ]
  },
  {
   "cell_type": "code",
   "execution_count": 227,
   "metadata": {
    "collapsed": false
   },
   "outputs": [
    {
     "data": {
      "text/plain": [
       "True"
      ]
     },
     "execution_count": 227,
     "metadata": {},
     "output_type": "execute_result"
    }
   ],
   "source": [
    "allclose(cofi_cost(params_initial, Y, R, 0.1, num_athletes, num_segments),\n",
    "         cofi_cost_sparse(params_initial, item, user, rating, num_ratings, 0.1, num_athletes, num_segments))"
   ]
  },
  {
   "cell_type": "code",
   "execution_count": 228,
   "metadata": {
    "collapsed": false
   },
   "outputs": [
    {
     "data": {
      "text/plain": [
       "True"
      ]
     },
     "execution_count": 228,
     "metadata": {},
     "output_type": "execute_result"
    }
   ],
   "source": [
    "allclose(cofi_cost_grad(params_initial, Y, R, 0.1, num_athletes, num_segments),\n",
    "         cofi_cost_sparse_grad(params_initial, item, user, rating, num_ratings, 0.1, num_athletes, num_segments))"
   ]
  },
  {
   "cell_type": "code",
   "execution_count": 230,
   "metadata": {
    "collapsed": false
   },
   "outputs": [
    {
     "name": "stdout",
     "output_type": "stream",
     "text": [
      "10 loops, best of 3: 63.3 ms per loop\n"
     ]
    }
   ],
   "source": [
    "timeit cofi_cost_sparse(params_initial, item, user, rating, num_ratings, 0, num_athletes, num_segments)"
   ]
  },
  {
   "cell_type": "code",
   "execution_count": 231,
   "metadata": {
    "collapsed": false
   },
   "outputs": [
    {
     "name": "stdout",
     "output_type": "stream",
     "text": [
      "peak memory: 1771.75 MiB, increment: 455.31 MiB\n"
     ]
    }
   ],
   "source": [
    "memit cofi_cost(params_initial, Y, R, 0, num_athletes, num_segments)"
   ]
  },
  {
   "cell_type": "code",
   "execution_count": 232,
   "metadata": {
    "collapsed": false
   },
   "outputs": [
    {
     "name": "stdout",
     "output_type": "stream",
     "text": [
      "peak memory: 1316.44 MiB, increment: 0.00 MiB\n"
     ]
    }
   ],
   "source": [
    "memit cofi_cost_sparse(params_initial, item, user, rating, num_ratings, 0, num_athletes, num_segments)"
   ]
  }
 ],
 "metadata": {
  "kernelspec": {
   "display_name": "Python 3",
   "language": "python",
   "name": "python3"
  },
  "language_info": {
   "codemirror_mode": {
    "name": "ipython",
    "version": 3
   },
   "file_extension": ".py",
   "mimetype": "text/x-python",
   "name": "python",
   "nbconvert_exporter": "python",
   "pygments_lexer": "ipython3",
   "version": "3.4.3"
  }
 },
 "nbformat": 4,
 "nbformat_minor": 0
}
